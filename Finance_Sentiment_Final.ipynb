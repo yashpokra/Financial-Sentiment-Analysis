{
  "nbformat": 4,
  "nbformat_minor": 0,
  "metadata": {
    "colab": {
      "name": "Finance Sentiment Final.ipynb",
      "provenance": [],
      "authorship_tag": "ABX9TyOVV9eSdxXTL76CE9H47boc",
      "include_colab_link": true
    },
    "kernelspec": {
      "name": "python3",
      "display_name": "Python 3"
    },
    "language_info": {
      "name": "python"
    },
    "accelerator": "GPU"
  },
  "cells": [
    {
      "cell_type": "markdown",
      "metadata": {
        "id": "view-in-github",
        "colab_type": "text"
      },
      "source": [
        "<a href=\"https://colab.research.google.com/github/yashpokra/Financial-Sentiment-Analysis/blob/main/Finance_Sentiment_Final.ipynb\" target=\"_parent\"><img src=\"https://colab.research.google.com/assets/colab-badge.svg\" alt=\"Open In Colab\"/></a>"
      ]
    },
    {
      "cell_type": "code",
      "execution_count": null,
      "metadata": {
        "id": "AQ8scFqEmCjN"
      },
      "outputs": [],
      "source": [
        "import tensorflow as tf\n",
        "import pandas as pd\n",
        "import random "
      ]
    },
    {
      "cell_type": "code",
      "source": [
        "#Downloading dataset file from github\n",
        "!wget https://raw.githubusercontent.com/yashpokra/Financial-Sentiment-Analysis/main/financial%20-%20sentiment%20analysis.csv\n"
      ],
      "metadata": {
        "colab": {
          "base_uri": "https://localhost:8080/"
        },
        "id": "_-SzQj7AmKEp",
        "outputId": "e93c8d79-bbcb-4a65-cc9a-bcda079492e1"
      },
      "execution_count": null,
      "outputs": [
        {
          "output_type": "stream",
          "name": "stdout",
          "text": [
            "--2022-04-25 20:26:08--  https://raw.githubusercontent.com/yashpokra/Financial-Sentiment-Analysis/main/financial%20-%20sentiment%20analysis.csv\n",
            "Resolving raw.githubusercontent.com (raw.githubusercontent.com)... 185.199.111.133, 185.199.108.133, 185.199.110.133, ...\n",
            "Connecting to raw.githubusercontent.com (raw.githubusercontent.com)|185.199.111.133|:443... connected.\n",
            "HTTP request sent, awaiting response... 200 OK\n",
            "Length: 745117 (728K) [text/plain]\n",
            "Saving to: ‘financial - sentiment analysis.csv’\n",
            "\n",
            "financial - sentime 100%[===================>] 727.65K  --.-KB/s    in 0.03s   \n",
            "\n",
            "2022-04-25 20:26:08 (27.1 MB/s) - ‘financial - sentiment analysis.csv’ saved [745117/745117]\n",
            "\n"
          ]
        }
      ]
    },
    {
      "cell_type": "code",
      "source": [
        "# Creating a data frame \n",
        "finance_dataset = pd.read_csv(\"/content/financial - sentiment analysis.csv\")"
      ],
      "metadata": {
        "id": "UVvIuEacmLsp"
      },
      "execution_count": null,
      "outputs": []
    },
    {
      "cell_type": "code",
      "source": [
        "finance_dataset.head(10) # checking the first 10 rows "
      ],
      "metadata": {
        "colab": {
          "base_uri": "https://localhost:8080/",
          "height": 363
        },
        "id": "-6E6VPQbmOOi",
        "outputId": "5dd1db7b-f1d3-4bc5-bbc6-76826af3996e"
      },
      "execution_count": null,
      "outputs": [
        {
          "output_type": "execute_result",
          "data": {
            "text/plain": [
              "                                            Sentence Sentiment\n",
              "0  The GeoSolutions technology will leverage Bene...  positive\n",
              "1  $ESI on lows, down $1.50 to $2.50 BK a real po...  negative\n",
              "2  For the last quarter of 2010 , Componenta 's n...  positive\n",
              "3  According to the Finnish-Russian Chamber of Co...   neutral\n",
              "4  The Swedish buyout firm has sold its remaining...   neutral\n",
              "5    $SPY wouldn't be surprised to see a green close  positive\n",
              "6  Shell's $70 Billion BG Deal Meets Shareholder ...  negative\n",
              "7  SSH COMMUNICATIONS SECURITY CORP STOCK EXCHANG...  negative\n",
              "8  Kone 's net sales rose by some 14 % year-on-ye...  positive\n",
              "9  The Stockmann department store will have a tot...   neutral"
            ],
            "text/html": [
              "\n",
              "  <div id=\"df-b857ad24-2481-4fa1-9a78-4147e32836d3\">\n",
              "    <div class=\"colab-df-container\">\n",
              "      <div>\n",
              "<style scoped>\n",
              "    .dataframe tbody tr th:only-of-type {\n",
              "        vertical-align: middle;\n",
              "    }\n",
              "\n",
              "    .dataframe tbody tr th {\n",
              "        vertical-align: top;\n",
              "    }\n",
              "\n",
              "    .dataframe thead th {\n",
              "        text-align: right;\n",
              "    }\n",
              "</style>\n",
              "<table border=\"1\" class=\"dataframe\">\n",
              "  <thead>\n",
              "    <tr style=\"text-align: right;\">\n",
              "      <th></th>\n",
              "      <th>Sentence</th>\n",
              "      <th>Sentiment</th>\n",
              "    </tr>\n",
              "  </thead>\n",
              "  <tbody>\n",
              "    <tr>\n",
              "      <th>0</th>\n",
              "      <td>The GeoSolutions technology will leverage Bene...</td>\n",
              "      <td>positive</td>\n",
              "    </tr>\n",
              "    <tr>\n",
              "      <th>1</th>\n",
              "      <td>$ESI on lows, down $1.50 to $2.50 BK a real po...</td>\n",
              "      <td>negative</td>\n",
              "    </tr>\n",
              "    <tr>\n",
              "      <th>2</th>\n",
              "      <td>For the last quarter of 2010 , Componenta 's n...</td>\n",
              "      <td>positive</td>\n",
              "    </tr>\n",
              "    <tr>\n",
              "      <th>3</th>\n",
              "      <td>According to the Finnish-Russian Chamber of Co...</td>\n",
              "      <td>neutral</td>\n",
              "    </tr>\n",
              "    <tr>\n",
              "      <th>4</th>\n",
              "      <td>The Swedish buyout firm has sold its remaining...</td>\n",
              "      <td>neutral</td>\n",
              "    </tr>\n",
              "    <tr>\n",
              "      <th>5</th>\n",
              "      <td>$SPY wouldn't be surprised to see a green close</td>\n",
              "      <td>positive</td>\n",
              "    </tr>\n",
              "    <tr>\n",
              "      <th>6</th>\n",
              "      <td>Shell's $70 Billion BG Deal Meets Shareholder ...</td>\n",
              "      <td>negative</td>\n",
              "    </tr>\n",
              "    <tr>\n",
              "      <th>7</th>\n",
              "      <td>SSH COMMUNICATIONS SECURITY CORP STOCK EXCHANG...</td>\n",
              "      <td>negative</td>\n",
              "    </tr>\n",
              "    <tr>\n",
              "      <th>8</th>\n",
              "      <td>Kone 's net sales rose by some 14 % year-on-ye...</td>\n",
              "      <td>positive</td>\n",
              "    </tr>\n",
              "    <tr>\n",
              "      <th>9</th>\n",
              "      <td>The Stockmann department store will have a tot...</td>\n",
              "      <td>neutral</td>\n",
              "    </tr>\n",
              "  </tbody>\n",
              "</table>\n",
              "</div>\n",
              "      <button class=\"colab-df-convert\" onclick=\"convertToInteractive('df-b857ad24-2481-4fa1-9a78-4147e32836d3')\"\n",
              "              title=\"Convert this dataframe to an interactive table.\"\n",
              "              style=\"display:none;\">\n",
              "        \n",
              "  <svg xmlns=\"http://www.w3.org/2000/svg\" height=\"24px\"viewBox=\"0 0 24 24\"\n",
              "       width=\"24px\">\n",
              "    <path d=\"M0 0h24v24H0V0z\" fill=\"none\"/>\n",
              "    <path d=\"M18.56 5.44l.94 2.06.94-2.06 2.06-.94-2.06-.94-.94-2.06-.94 2.06-2.06.94zm-11 1L8.5 8.5l.94-2.06 2.06-.94-2.06-.94L8.5 2.5l-.94 2.06-2.06.94zm10 10l.94 2.06.94-2.06 2.06-.94-2.06-.94-.94-2.06-.94 2.06-2.06.94z\"/><path d=\"M17.41 7.96l-1.37-1.37c-.4-.4-.92-.59-1.43-.59-.52 0-1.04.2-1.43.59L10.3 9.45l-7.72 7.72c-.78.78-.78 2.05 0 2.83L4 21.41c.39.39.9.59 1.41.59.51 0 1.02-.2 1.41-.59l7.78-7.78 2.81-2.81c.8-.78.8-2.07 0-2.86zM5.41 20L4 18.59l7.72-7.72 1.47 1.35L5.41 20z\"/>\n",
              "  </svg>\n",
              "      </button>\n",
              "      \n",
              "  <style>\n",
              "    .colab-df-container {\n",
              "      display:flex;\n",
              "      flex-wrap:wrap;\n",
              "      gap: 12px;\n",
              "    }\n",
              "\n",
              "    .colab-df-convert {\n",
              "      background-color: #E8F0FE;\n",
              "      border: none;\n",
              "      border-radius: 50%;\n",
              "      cursor: pointer;\n",
              "      display: none;\n",
              "      fill: #1967D2;\n",
              "      height: 32px;\n",
              "      padding: 0 0 0 0;\n",
              "      width: 32px;\n",
              "    }\n",
              "\n",
              "    .colab-df-convert:hover {\n",
              "      background-color: #E2EBFA;\n",
              "      box-shadow: 0px 1px 2px rgba(60, 64, 67, 0.3), 0px 1px 3px 1px rgba(60, 64, 67, 0.15);\n",
              "      fill: #174EA6;\n",
              "    }\n",
              "\n",
              "    [theme=dark] .colab-df-convert {\n",
              "      background-color: #3B4455;\n",
              "      fill: #D2E3FC;\n",
              "    }\n",
              "\n",
              "    [theme=dark] .colab-df-convert:hover {\n",
              "      background-color: #434B5C;\n",
              "      box-shadow: 0px 1px 3px 1px rgba(0, 0, 0, 0.15);\n",
              "      filter: drop-shadow(0px 1px 2px rgba(0, 0, 0, 0.3));\n",
              "      fill: #FFFFFF;\n",
              "    }\n",
              "  </style>\n",
              "\n",
              "      <script>\n",
              "        const buttonEl =\n",
              "          document.querySelector('#df-b857ad24-2481-4fa1-9a78-4147e32836d3 button.colab-df-convert');\n",
              "        buttonEl.style.display =\n",
              "          google.colab.kernel.accessAllowed ? 'block' : 'none';\n",
              "\n",
              "        async function convertToInteractive(key) {\n",
              "          const element = document.querySelector('#df-b857ad24-2481-4fa1-9a78-4147e32836d3');\n",
              "          const dataTable =\n",
              "            await google.colab.kernel.invokeFunction('convertToInteractive',\n",
              "                                                     [key], {});\n",
              "          if (!dataTable) return;\n",
              "\n",
              "          const docLinkHtml = 'Like what you see? Visit the ' +\n",
              "            '<a target=\"_blank\" href=https://colab.research.google.com/notebooks/data_table.ipynb>data table notebook</a>'\n",
              "            + ' to learn more about interactive tables.';\n",
              "          element.innerHTML = '';\n",
              "          dataTable['output_type'] = 'display_data';\n",
              "          await google.colab.output.renderOutput(dataTable, element);\n",
              "          const docLink = document.createElement('div');\n",
              "          docLink.innerHTML = docLinkHtml;\n",
              "          element.appendChild(docLink);\n",
              "        }\n",
              "      </script>\n",
              "    </div>\n",
              "  </div>\n",
              "  "
            ]
          },
          "metadata": {},
          "execution_count": 4
        }
      ]
    },
    {
      "cell_type": "markdown",
      "source": [
        "Converting the Sentiment labels into numerical form, so that we can develop a multiclass problem, where:\n",
        "\n",
        "`negative` = 0\n",
        "\n",
        "`neutral` = 1 \n",
        "\n",
        "`positive` = 2"
      ],
      "metadata": {
        "id": "bT-UF0nFmP7q"
      }
    },
    {
      "cell_type": "code",
      "source": [
        "dataset_dict = {\"negative\": 0, \"neutral\": 1, \"positive\":2} # Creating dictionary \n",
        "finance_dataset[\"Sentiment\"].replace(dataset_dict, inplace = True) # set inplace to True, so that it will directly the modify the changes to the dataframe directly\n",
        "finance_dataset.head(10)"
      ],
      "metadata": {
        "colab": {
          "base_uri": "https://localhost:8080/",
          "height": 363
        },
        "id": "Xt8ZvutQmT8C",
        "outputId": "4fc3beb2-740b-434e-de06-f4894ee88d0b"
      },
      "execution_count": null,
      "outputs": [
        {
          "output_type": "execute_result",
          "data": {
            "text/plain": [
              "                                            Sentence  Sentiment\n",
              "0  The GeoSolutions technology will leverage Bene...          2\n",
              "1  $ESI on lows, down $1.50 to $2.50 BK a real po...          0\n",
              "2  For the last quarter of 2010 , Componenta 's n...          2\n",
              "3  According to the Finnish-Russian Chamber of Co...          1\n",
              "4  The Swedish buyout firm has sold its remaining...          1\n",
              "5    $SPY wouldn't be surprised to see a green close          2\n",
              "6  Shell's $70 Billion BG Deal Meets Shareholder ...          0\n",
              "7  SSH COMMUNICATIONS SECURITY CORP STOCK EXCHANG...          0\n",
              "8  Kone 's net sales rose by some 14 % year-on-ye...          2\n",
              "9  The Stockmann department store will have a tot...          1"
            ],
            "text/html": [
              "\n",
              "  <div id=\"df-dc3e3075-2139-4b4a-9481-90388ac0ab0c\">\n",
              "    <div class=\"colab-df-container\">\n",
              "      <div>\n",
              "<style scoped>\n",
              "    .dataframe tbody tr th:only-of-type {\n",
              "        vertical-align: middle;\n",
              "    }\n",
              "\n",
              "    .dataframe tbody tr th {\n",
              "        vertical-align: top;\n",
              "    }\n",
              "\n",
              "    .dataframe thead th {\n",
              "        text-align: right;\n",
              "    }\n",
              "</style>\n",
              "<table border=\"1\" class=\"dataframe\">\n",
              "  <thead>\n",
              "    <tr style=\"text-align: right;\">\n",
              "      <th></th>\n",
              "      <th>Sentence</th>\n",
              "      <th>Sentiment</th>\n",
              "    </tr>\n",
              "  </thead>\n",
              "  <tbody>\n",
              "    <tr>\n",
              "      <th>0</th>\n",
              "      <td>The GeoSolutions technology will leverage Bene...</td>\n",
              "      <td>2</td>\n",
              "    </tr>\n",
              "    <tr>\n",
              "      <th>1</th>\n",
              "      <td>$ESI on lows, down $1.50 to $2.50 BK a real po...</td>\n",
              "      <td>0</td>\n",
              "    </tr>\n",
              "    <tr>\n",
              "      <th>2</th>\n",
              "      <td>For the last quarter of 2010 , Componenta 's n...</td>\n",
              "      <td>2</td>\n",
              "    </tr>\n",
              "    <tr>\n",
              "      <th>3</th>\n",
              "      <td>According to the Finnish-Russian Chamber of Co...</td>\n",
              "      <td>1</td>\n",
              "    </tr>\n",
              "    <tr>\n",
              "      <th>4</th>\n",
              "      <td>The Swedish buyout firm has sold its remaining...</td>\n",
              "      <td>1</td>\n",
              "    </tr>\n",
              "    <tr>\n",
              "      <th>5</th>\n",
              "      <td>$SPY wouldn't be surprised to see a green close</td>\n",
              "      <td>2</td>\n",
              "    </tr>\n",
              "    <tr>\n",
              "      <th>6</th>\n",
              "      <td>Shell's $70 Billion BG Deal Meets Shareholder ...</td>\n",
              "      <td>0</td>\n",
              "    </tr>\n",
              "    <tr>\n",
              "      <th>7</th>\n",
              "      <td>SSH COMMUNICATIONS SECURITY CORP STOCK EXCHANG...</td>\n",
              "      <td>0</td>\n",
              "    </tr>\n",
              "    <tr>\n",
              "      <th>8</th>\n",
              "      <td>Kone 's net sales rose by some 14 % year-on-ye...</td>\n",
              "      <td>2</td>\n",
              "    </tr>\n",
              "    <tr>\n",
              "      <th>9</th>\n",
              "      <td>The Stockmann department store will have a tot...</td>\n",
              "      <td>1</td>\n",
              "    </tr>\n",
              "  </tbody>\n",
              "</table>\n",
              "</div>\n",
              "      <button class=\"colab-df-convert\" onclick=\"convertToInteractive('df-dc3e3075-2139-4b4a-9481-90388ac0ab0c')\"\n",
              "              title=\"Convert this dataframe to an interactive table.\"\n",
              "              style=\"display:none;\">\n",
              "        \n",
              "  <svg xmlns=\"http://www.w3.org/2000/svg\" height=\"24px\"viewBox=\"0 0 24 24\"\n",
              "       width=\"24px\">\n",
              "    <path d=\"M0 0h24v24H0V0z\" fill=\"none\"/>\n",
              "    <path d=\"M18.56 5.44l.94 2.06.94-2.06 2.06-.94-2.06-.94-.94-2.06-.94 2.06-2.06.94zm-11 1L8.5 8.5l.94-2.06 2.06-.94-2.06-.94L8.5 2.5l-.94 2.06-2.06.94zm10 10l.94 2.06.94-2.06 2.06-.94-2.06-.94-.94-2.06-.94 2.06-2.06.94z\"/><path d=\"M17.41 7.96l-1.37-1.37c-.4-.4-.92-.59-1.43-.59-.52 0-1.04.2-1.43.59L10.3 9.45l-7.72 7.72c-.78.78-.78 2.05 0 2.83L4 21.41c.39.39.9.59 1.41.59.51 0 1.02-.2 1.41-.59l7.78-7.78 2.81-2.81c.8-.78.8-2.07 0-2.86zM5.41 20L4 18.59l7.72-7.72 1.47 1.35L5.41 20z\"/>\n",
              "  </svg>\n",
              "      </button>\n",
              "      \n",
              "  <style>\n",
              "    .colab-df-container {\n",
              "      display:flex;\n",
              "      flex-wrap:wrap;\n",
              "      gap: 12px;\n",
              "    }\n",
              "\n",
              "    .colab-df-convert {\n",
              "      background-color: #E8F0FE;\n",
              "      border: none;\n",
              "      border-radius: 50%;\n",
              "      cursor: pointer;\n",
              "      display: none;\n",
              "      fill: #1967D2;\n",
              "      height: 32px;\n",
              "      padding: 0 0 0 0;\n",
              "      width: 32px;\n",
              "    }\n",
              "\n",
              "    .colab-df-convert:hover {\n",
              "      background-color: #E2EBFA;\n",
              "      box-shadow: 0px 1px 2px rgba(60, 64, 67, 0.3), 0px 1px 3px 1px rgba(60, 64, 67, 0.15);\n",
              "      fill: #174EA6;\n",
              "    }\n",
              "\n",
              "    [theme=dark] .colab-df-convert {\n",
              "      background-color: #3B4455;\n",
              "      fill: #D2E3FC;\n",
              "    }\n",
              "\n",
              "    [theme=dark] .colab-df-convert:hover {\n",
              "      background-color: #434B5C;\n",
              "      box-shadow: 0px 1px 3px 1px rgba(0, 0, 0, 0.15);\n",
              "      filter: drop-shadow(0px 1px 2px rgba(0, 0, 0, 0.3));\n",
              "      fill: #FFFFFF;\n",
              "    }\n",
              "  </style>\n",
              "\n",
              "      <script>\n",
              "        const buttonEl =\n",
              "          document.querySelector('#df-dc3e3075-2139-4b4a-9481-90388ac0ab0c button.colab-df-convert');\n",
              "        buttonEl.style.display =\n",
              "          google.colab.kernel.accessAllowed ? 'block' : 'none';\n",
              "\n",
              "        async function convertToInteractive(key) {\n",
              "          const element = document.querySelector('#df-dc3e3075-2139-4b4a-9481-90388ac0ab0c');\n",
              "          const dataTable =\n",
              "            await google.colab.kernel.invokeFunction('convertToInteractive',\n",
              "                                                     [key], {});\n",
              "          if (!dataTable) return;\n",
              "\n",
              "          const docLinkHtml = 'Like what you see? Visit the ' +\n",
              "            '<a target=\"_blank\" href=https://colab.research.google.com/notebooks/data_table.ipynb>data table notebook</a>'\n",
              "            + ' to learn more about interactive tables.';\n",
              "          element.innerHTML = '';\n",
              "          dataTable['output_type'] = 'display_data';\n",
              "          await google.colab.output.renderOutput(dataTable, element);\n",
              "          const docLink = document.createElement('div');\n",
              "          docLink.innerHTML = docLinkHtml;\n",
              "          element.appendChild(docLink);\n",
              "        }\n",
              "      </script>\n",
              "    </div>\n",
              "  </div>\n",
              "  "
            ]
          },
          "metadata": {},
          "execution_count": 5
        }
      ]
    },
    {
      "cell_type": "code",
      "source": [
        "# Focusing on seeing random samples from the finance dataset. \n",
        "import random\n",
        "i = random.randint(0, len(finance_dataset)-10)\n",
        "for row in finance_dataset[[\"Sentence\", \"Sentiment\"]][i: i + 10].itertuples():\n",
        "  print(row)\n",
        "  print()"
      ],
      "metadata": {
        "colab": {
          "base_uri": "https://localhost:8080/"
        },
        "id": "aQDXRYPGmcsC",
        "outputId": "f37d07c5-8b02-4a89-b439-13a1dd8716fc"
      },
      "execution_count": null,
      "outputs": [
        {
          "output_type": "stream",
          "name": "stdout",
          "text": [
            "Pandas(Index=1128, Sentence='Tesla to recall 2,700 Model X SUVs over seat issue https://t.co/OdPraN59Xq $TSLA https://t.co/xvn4blIwpy https://t.co/ThfvWTnRPs', Sentiment=0)\n",
            "\n",
            "Pandas(Index=1129, Sentence='Bovine slaughtering and cutting at the Kuopio facility will be transferred to the Kauhajoki slaughterhouse .', Sentiment=1)\n",
            "\n",
            "Pandas(Index=1130, Sentence='`` Adjustment to the fall in price level , in contrast , has been less effective .', Sentiment=1)\n",
            "\n",
            "Pandas(Index=1131, Sentence='Okmetic has a global customer base and sales network , production plants in Finland and the US and contract manufacturers in Japan and China .', Sentiment=1)\n",
            "\n",
            "Pandas(Index=1132, Sentence='Public services will also be available .', Sentiment=1)\n",
            "\n",
            "Pandas(Index=1133, Sentence='Asian traffic declined by 3.4 per cent .', Sentiment=1)\n",
            "\n",
            "Pandas(Index=1134, Sentence='Finnish and Swedish construction markets are still experiencing an estimated 4 % annual growth in 2008 .', Sentiment=2)\n",
            "\n",
            "Pandas(Index=1135, Sentence='Stock Exchange Release 10/3/2011 12:00 Sanoma has published its Annual Report and Financial Statements for 2010 and its first Corporate Responsibility Report .', Sentiment=1)\n",
            "\n",
            "Pandas(Index=1136, Sentence='The company targets sales of Ls 27.1 mn ( Ls 23.498 mn ) and a profit of Ls 300,000 ( Ls 371,500 ) in 2007 .', Sentiment=1)\n",
            "\n",
            "Pandas(Index=1137, Sentence='After the takeover , Cramo will become the second largest rental services provider in the Latvian market .', Sentiment=2)\n",
            "\n"
          ]
        }
      ]
    },
    {
      "cell_type": "code",
      "source": [
        "# Utilizing scikit learn to split the dataset into training and testing datasets \n",
        "from sklearn.model_selection import train_test_split\n",
        "\n",
        "train_sentence, test_sentence, train_sentiment, test_sentiment  = train_test_split(finance_dataset[\"Sentence\"].to_numpy(), finance_dataset[\"Sentiment\"].to_numpy(), train_size = 0.8, random_state = 43)\n"
      ],
      "metadata": {
        "id": "FAZ0JNnpmhlC"
      },
      "execution_count": null,
      "outputs": []
    },
    {
      "cell_type": "code",
      "source": [
        "# Displaying the length of training and testing data, and the entire dataset.\n",
        "print(f\"Total sentences for training dataset: {len(train_sentence)}\")\n",
        "print(f\"Total sentences for the test dataset: {len(test_sentence)}\")\n",
        "print(f\"Total sentences in the whole dataset: {len(finance_dataset)}\")"
      ],
      "metadata": {
        "colab": {
          "base_uri": "https://localhost:8080/"
        },
        "id": "y-1HcnuUmqHJ",
        "outputId": "871241ac-521b-4733-a134-d7cbdc86c1a7"
      },
      "execution_count": null,
      "outputs": [
        {
          "output_type": "stream",
          "name": "stdout",
          "text": [
            "Total sentences for training dataset: 4673\n",
            "Total sentences for the test dataset: 1169\n",
            "Total sentences in the whole dataset: 5842\n"
          ]
        }
      ]
    },
    {
      "cell_type": "code",
      "source": [
        "train_sentence[:10] #looking at the first 10 sentences"
      ],
      "metadata": {
        "colab": {
          "base_uri": "https://localhost:8080/"
        },
        "id": "7Oa_dFQhnZ5O",
        "outputId": "f28ad36b-6601-49c5-8586-3b25d67e581c"
      },
      "execution_count": null,
      "outputs": [
        {
          "output_type": "execute_result",
          "data": {
            "text/plain": [
              "array(['Operating profit rose to EUR 5mn from EUR 2.8 mn in the fourth quarter of 2008 .',\n",
              "       'Earnings per share EPS are seen at EUR 0.56 , up from EUR 0.38 .',\n",
              "       \"`` P&O Ferries now has a very efficient and powerful vessel for its Dover to Calais route , '' head of the shipbuilder 's Rauma yard , Timo Suistio , said .\",\n",
              "       'The money will be spread mainly over 2011 and 2012 , the company said .',\n",
              "       'StanChart and RBS struggle in Bank of England stress tests',\n",
              "       'Upon establishment , the plan is directed to approximately 20 persons .',\n",
              "       'At the moment , Valio is not worried , but if the ban continues for long , it may become quite a problem .',\n",
              "       \"Of the price , Kesko 's share is 10 mln euro $ 15.5 mln and it will recognize a gain of 4.0 mln euro $ 6.2 mln on the disposal which will be included in the result for the second quarter of 2008 .\",\n",
              "       '`` The additional flight linking Mumbai with Helsinki was dictated by the strong traffic demand between Asia and Europe .',\n",
              "       'Aviva, Friends Life top forecasts ahead of 5.6 billion pound merger'],\n",
              "      dtype=object)"
            ]
          },
          "metadata": {},
          "execution_count": 9
        }
      ]
    },
    {
      "cell_type": "code",
      "source": [
        "for i in train_sentence[0:10]: #splitting each token in the sentences on any whitespace\n",
        "  print(i.split())\n"
      ],
      "metadata": {
        "colab": {
          "base_uri": "https://localhost:8080/"
        },
        "id": "nnbDcux2nbv5",
        "outputId": "d069957e-4ac3-4f1d-a8eb-c91c10c23a89"
      },
      "execution_count": null,
      "outputs": [
        {
          "output_type": "stream",
          "name": "stdout",
          "text": [
            "['Operating', 'profit', 'rose', 'to', 'EUR', '5mn', 'from', 'EUR', '2.8', 'mn', 'in', 'the', 'fourth', 'quarter', 'of', '2008', '.']\n",
            "['Earnings', 'per', 'share', 'EPS', 'are', 'seen', 'at', 'EUR', '0.56', ',', 'up', 'from', 'EUR', '0.38', '.']\n",
            "['``', 'P&O', 'Ferries', 'now', 'has', 'a', 'very', 'efficient', 'and', 'powerful', 'vessel', 'for', 'its', 'Dover', 'to', 'Calais', 'route', ',', \"''\", 'head', 'of', 'the', 'shipbuilder', \"'s\", 'Rauma', 'yard', ',', 'Timo', 'Suistio', ',', 'said', '.']\n",
            "['The', 'money', 'will', 'be', 'spread', 'mainly', 'over', '2011', 'and', '2012', ',', 'the', 'company', 'said', '.']\n",
            "['StanChart', 'and', 'RBS', 'struggle', 'in', 'Bank', 'of', 'England', 'stress', 'tests']\n",
            "['Upon', 'establishment', ',', 'the', 'plan', 'is', 'directed', 'to', 'approximately', '20', 'persons', '.']\n",
            "['At', 'the', 'moment', ',', 'Valio', 'is', 'not', 'worried', ',', 'but', 'if', 'the', 'ban', 'continues', 'for', 'long', ',', 'it', 'may', 'become', 'quite', 'a', 'problem', '.']\n",
            "['Of', 'the', 'price', ',', 'Kesko', \"'s\", 'share', 'is', '10', 'mln', 'euro', '$', '15.5', 'mln', 'and', 'it', 'will', 'recognize', 'a', 'gain', 'of', '4.0', 'mln', 'euro', '$', '6.2', 'mln', 'on', 'the', 'disposal', 'which', 'will', 'be', 'included', 'in', 'the', 'result', 'for', 'the', 'second', 'quarter', 'of', '2008', '.']\n",
            "['``', 'The', 'additional', 'flight', 'linking', 'Mumbai', 'with', 'Helsinki', 'was', 'dictated', 'by', 'the', 'strong', 'traffic', 'demand', 'between', 'Asia', 'and', 'Europe', '.']\n",
            "['Aviva,', 'Friends', 'Life', 'top', 'forecasts', 'ahead', 'of', '5.6', 'billion', 'pound', 'merger']\n"
          ]
        }
      ]
    },
    {
      "cell_type": "code",
      "source": [
        "len(train_sentence)"
      ],
      "metadata": {
        "colab": {
          "base_uri": "https://localhost:8080/"
        },
        "id": "_U6G4bZ__7Q-",
        "outputId": "ce2d781e-40c8-4632-d5e0-a08ae2dd8777"
      },
      "execution_count": null,
      "outputs": [
        {
          "output_type": "execute_result",
          "data": {
            "text/plain": [
              "4673"
            ]
          },
          "metadata": {},
          "execution_count": 11
        }
      ]
    },
    {
      "cell_type": "code",
      "source": [
        "# Total elements in training_sentence before splitting \n",
        "before_split = len(train_sentence)\n",
        "\n",
        "\n",
        "# Total elements in training_sentence after splitting \n",
        "max_vocab = sum([len(i.split()) for i in train_sentence]) \n",
        "\n",
        "maximum_length = round(max_vocab/before_split)\n",
        "maximum_length, max_vocab"
      ],
      "metadata": {
        "colab": {
          "base_uri": "https://localhost:8080/"
        },
        "id": "iJMqp2fgAvUt",
        "outputId": "1571f914-3744-4605-df1f-8f77aef56a73"
      },
      "execution_count": null,
      "outputs": [
        {
          "output_type": "execute_result",
          "data": {
            "text/plain": [
              "(21, 98295)"
            ]
          },
          "metadata": {},
          "execution_count": 12
        }
      ]
    },
    {
      "cell_type": "code",
      "source": [
        "# Converting the text to numbers utilzing tokenization. \n",
        "import keras  \n",
        "from tensorflow.keras.layers import TextVectorization\n",
        "from tensorflow.keras.layers import Embedding \n",
        "\n",
        "vectorizer_layer = tf.keras.layers.TextVectorization (\n",
        "    max_tokens = max_vocab, # max limit for unique words\n",
        "    split=\"whitespace\",\n",
        "    ngrams = None,\n",
        "    output_mode = \"int\", \n",
        "    output_sequence_length = maximum_length #how long the tokens can be\n",
        ")"
      ],
      "metadata": {
        "id": "fsRqtkO4A2Wm"
      },
      "execution_count": null,
      "outputs": []
    },
    {
      "cell_type": "code",
      "source": [
        "vectorizer_layer.adapt(train_sentence) \n"
      ],
      "metadata": {
        "id": "7VumW4_RA7Zm"
      },
      "execution_count": null,
      "outputs": []
    },
    {
      "cell_type": "code",
      "source": [
        "embedding_layer  = tf.keras.layers.Embedding( #turns integers into dense vectors\n",
        "  input_dim = max_vocab, \n",
        "  output_dim = 128,\n",
        "  input_length = maximum_length\n",
        ")\n",
        "embedding_layer"
      ],
      "metadata": {
        "colab": {
          "base_uri": "https://localhost:8080/"
        },
        "id": "JiisefetDVkx",
        "outputId": "95655d24-fa63-4cd9-e452-ed648ea57537"
      },
      "execution_count": null,
      "outputs": [
        {
          "output_type": "execute_result",
          "data": {
            "text/plain": [
              "<keras.layers.embeddings.Embedding at 0x7fcd6b56f410>"
            ]
          },
          "metadata": {},
          "execution_count": 15
        }
      ]
    },
    {
      "cell_type": "code",
      "source": [
        "random_sentence = random.choice(train_sentence) #selects a random sentence from training dataset\n",
        "sample_em = embedding_layer(vectorizer_layer([random_sentence]))\n",
        "sample_em"
      ],
      "metadata": {
        "colab": {
          "base_uri": "https://localhost:8080/"
        },
        "id": "PFAG4EiPDdDV",
        "outputId": "e6bb37e4-e44b-4b3d-baf4-6c28c173cfc0"
      },
      "execution_count": null,
      "outputs": [
        {
          "output_type": "execute_result",
          "data": {
            "text/plain": [
              "<tf.Tensor: shape=(1, 21, 128), dtype=float32, numpy=\n",
              "array([[[ 0.03117314, -0.01495209,  0.00897781, ..., -0.04304645,\n",
              "          0.03142207,  0.0043871 ],\n",
              "        [-0.03175236,  0.04613307, -0.03471109, ...,  0.00765523,\n",
              "         -0.00497843, -0.03250787],\n",
              "        [ 0.02315822, -0.02461975, -0.01570848, ..., -0.04123599,\n",
              "         -0.02744631, -0.0168938 ],\n",
              "        ...,\n",
              "        [-0.02023824,  0.02285537,  0.0357717 , ...,  0.03797219,\n",
              "         -0.03462192,  0.00265925],\n",
              "        [ 0.0069899 ,  0.02350808,  0.00316936, ...,  0.04089225,\n",
              "         -0.032547  , -0.02700019],\n",
              "        [-0.04636655, -0.01549777,  0.00474722, ..., -0.01231077,\n",
              "         -0.00083681, -0.0026543 ]]], dtype=float32)>"
            ]
          },
          "metadata": {},
          "execution_count": 16
        }
      ]
    },
    {
      "cell_type": "markdown",
      "source": [
        "Baseline Model using Naives Bayes"
      ],
      "metadata": {
        "id": "RNK8OKN-DlkK"
      }
    },
    {
      "cell_type": "code",
      "source": [
        "test_sentiment"
      ],
      "metadata": {
        "colab": {
          "base_uri": "https://localhost:8080/"
        },
        "id": "PmPeLPUmDr76",
        "outputId": "338da705-1c78-4964-998e-a9059c966fa5"
      },
      "execution_count": null,
      "outputs": [
        {
          "output_type": "execute_result",
          "data": {
            "text/plain": [
              "array([1, 1, 2, ..., 1, 2, 1])"
            ]
          },
          "metadata": {},
          "execution_count": 17
        }
      ]
    },
    {
      "cell_type": "code",
      "source": [
        "train_sentence"
      ],
      "metadata": {
        "colab": {
          "base_uri": "https://localhost:8080/"
        },
        "id": "R4FgNUF4EoJ-",
        "outputId": "fcf12848-dc08-47c4-d4fb-8e675c256746"
      },
      "execution_count": null,
      "outputs": [
        {
          "output_type": "execute_result",
          "data": {
            "text/plain": [
              "array(['Operating profit rose to EUR 5mn from EUR 2.8 mn in the fourth quarter of 2008 .',\n",
              "       'Earnings per share EPS are seen at EUR 0.56 , up from EUR 0.38 .',\n",
              "       \"`` P&O Ferries now has a very efficient and powerful vessel for its Dover to Calais route , '' head of the shipbuilder 's Rauma yard , Timo Suistio , said .\",\n",
              "       ...,\n",
              "       'Paper companies were in negative territories , with Stora Enso R shedding 1.62 pct to 12.73 eur , UPM-Kymmene down 0.80 pct at 18.64 eur and M-real B 0.18 pct lower at 5.57 eur .',\n",
              "       'The company plans to close two of the three lines at the plant , where some 450 jobs are under threat .',\n",
              "       'Sales of mid-strength beer decreased by 40 % .'], dtype=object)"
            ]
          },
          "metadata": {},
          "execution_count": 18
        }
      ]
    },
    {
      "cell_type": "code",
      "source": [
        "\n",
        "\n",
        "from sklearn.pipeline import Pipeline\n",
        "from sklearn.naive_bayes import MultinomialNB\n",
        "from sklearn.feature_extraction.text import TfidfVectorizer\n",
        "\n",
        "\n",
        "baseline = Pipeline(\n",
        "    [\n",
        "     (\"tfid\", TfidfVectorizer()),  #extractor - extracting features \n",
        "     (\"clf\", MultinomialNB()),  # classifier - will classify the patterns \n",
        "    ])\n",
        "baseline.fit(train_sentence, train_sentiment) #fitting on training dataset\n",
        "baseline_pred = baseline.predict(test_sentence) #baseline will predict on testing data\n",
        "\n",
        "baseline_pred[:500]"
      ],
      "metadata": {
        "colab": {
          "base_uri": "https://localhost:8080/"
        },
        "id": "5GiMmN8TEsoa",
        "outputId": "c9574595-f3b1-4bd8-e5f3-1f597078fd79"
      },
      "execution_count": null,
      "outputs": [
        {
          "output_type": "execute_result",
          "data": {
            "text/plain": [
              "array([1, 1, 2, 1, 1, 2, 1, 2, 1, 2, 1, 1, 1, 1, 2, 1, 1, 1, 1, 1, 1, 1,\n",
              "       2, 1, 1, 1, 1, 1, 1, 2, 1, 1, 1, 1, 2, 1, 2, 1, 1, 1, 1, 1, 2, 1,\n",
              "       1, 2, 1, 1, 1, 1, 1, 1, 1, 1, 1, 1, 1, 1, 1, 1, 1, 2, 1, 1, 1, 1,\n",
              "       1, 1, 2, 1, 1, 1, 1, 1, 1, 1, 1, 1, 1, 1, 1, 1, 1, 1, 1, 1, 2, 2,\n",
              "       1, 1, 1, 1, 1, 2, 2, 2, 1, 2, 1, 1, 1, 1, 1, 1, 1, 2, 1, 1, 1, 2,\n",
              "       1, 1, 1, 1, 1, 1, 1, 1, 1, 1, 1, 1, 1, 1, 1, 0, 1, 1, 1, 1, 1, 1,\n",
              "       1, 1, 1, 1, 1, 2, 1, 1, 1, 1, 1, 1, 1, 1, 1, 1, 1, 1, 1, 1, 1, 1,\n",
              "       1, 1, 1, 1, 0, 2, 1, 1, 1, 1, 1, 1, 1, 2, 1, 1, 1, 1, 2, 1, 2, 1,\n",
              "       1, 1, 1, 2, 1, 0, 1, 1, 2, 1, 1, 1, 1, 1, 1, 1, 1, 2, 2, 1, 1, 2,\n",
              "       2, 1, 1, 1, 1, 1, 1, 1, 1, 1, 1, 1, 1, 1, 1, 2, 1, 2, 1, 1, 1, 1,\n",
              "       1, 1, 1, 2, 1, 1, 2, 1, 1, 1, 1, 1, 1, 1, 1, 1, 1, 2, 1, 1, 1, 2,\n",
              "       1, 1, 1, 1, 1, 1, 1, 1, 1, 1, 1, 2, 1, 1, 1, 1, 1, 1, 1, 2, 1, 2,\n",
              "       1, 1, 1, 1, 1, 1, 1, 1, 2, 1, 2, 1, 1, 1, 2, 1, 1, 1, 1, 2, 1, 1,\n",
              "       1, 2, 1, 1, 2, 2, 1, 2, 1, 1, 1, 1, 2, 1, 1, 1, 1, 1, 2, 1, 2, 1,\n",
              "       1, 1, 1, 1, 2, 2, 2, 1, 2, 1, 1, 1, 2, 1, 1, 1, 1, 2, 1, 1, 1, 1,\n",
              "       1, 1, 1, 2, 1, 1, 1, 1, 2, 1, 1, 1, 1, 1, 1, 1, 2, 2, 1, 2, 1, 1,\n",
              "       1, 1, 1, 1, 1, 1, 1, 2, 1, 1, 1, 1, 1, 1, 1, 1, 1, 1, 2, 1, 1, 1,\n",
              "       1, 2, 2, 1, 1, 1, 2, 1, 1, 1, 1, 2, 1, 2, 2, 1, 1, 1, 2, 1, 1, 2,\n",
              "       1, 1, 2, 1, 1, 1, 1, 1, 1, 1, 1, 1, 1, 1, 1, 1, 2, 1, 1, 1, 1, 2,\n",
              "       1, 1, 1, 1, 1, 2, 1, 1, 1, 1, 1, 1, 1, 1, 1, 1, 1, 1, 1, 1, 1, 1,\n",
              "       1, 1, 1, 1, 1, 1, 1, 1, 1, 1, 1, 1, 1, 1, 1, 1, 2, 1, 1, 2, 2, 1,\n",
              "       1, 2, 1, 1, 2, 1, 1, 1, 1, 2, 1, 1, 1, 1, 1, 1, 1, 1, 1, 1, 2, 1,\n",
              "       1, 1, 2, 1, 1, 2, 1, 1, 1, 1, 1, 2, 1, 1, 1, 1])"
            ]
          },
          "metadata": {},
          "execution_count": 19
        }
      ]
    },
    {
      "cell_type": "code",
      "source": [
        "train_sentiment"
      ],
      "metadata": {
        "colab": {
          "base_uri": "https://localhost:8080/"
        },
        "id": "IbtS6N6wE0ej",
        "outputId": "c3f6552a-7502-4d19-d37d-9906e0ee9df2"
      },
      "execution_count": null,
      "outputs": [
        {
          "output_type": "execute_result",
          "data": {
            "text/plain": [
              "array([2, 2, 2, ..., 0, 1, 0])"
            ]
          },
          "metadata": {},
          "execution_count": 20
        }
      ]
    },
    {
      "cell_type": "code",
      "source": [
        "test_sentiment.shape, baseline_pred.shape"
      ],
      "metadata": {
        "colab": {
          "base_uri": "https://localhost:8080/"
        },
        "id": "Re73QG_0GPaI",
        "outputId": "5b9101eb-5165-420a-e5b7-0c85878651f0"
      },
      "execution_count": null,
      "outputs": [
        {
          "output_type": "execute_result",
          "data": {
            "text/plain": [
              "((1169,), (1169,))"
            ]
          },
          "metadata": {},
          "execution_count": 21
        }
      ]
    },
    {
      "cell_type": "code",
      "source": [
        "from sklearn.metrics import recall_score, accuracy_score, f1_score, precision_score\n",
        "\n",
        "\n",
        "# function that will display metrics \n",
        "def get_metrics(y_true, y_pred):\n",
        "  accuracy_metric = accuracy_score(y_true, y_pred) #will get an accuracy score\n",
        "  precession_metric = precision_score(y_true, y_pred, average = \"weighted\") \n",
        "  recall_metric = recall_score(y_true, y_pred, average = \"weighted\")\n",
        "  f1_metric = f1_score(y_true, y_pred, average = \"weighted\")\n",
        "   \n",
        "  model_metrics = {\"accuracy_score\": accuracy_metric, \"precession_score\": precession_metric, \"recall_score\": recall_metric, \"f1_score\": f1_metric}\n",
        "  return(model_metrics) # return a dictionary, that will have the values for the metric\n"
      ],
      "metadata": {
        "id": "G47VDTrGGTnI"
      },
      "execution_count": null,
      "outputs": []
    },
    {
      "cell_type": "code",
      "source": [
        "baseline_results = get_metrics(test_sentiment, baseline_pred) # will get results for the baseline\n",
        "baseline_results"
      ],
      "metadata": {
        "colab": {
          "base_uri": "https://localhost:8080/"
        },
        "id": "ONScsWm6GuwK",
        "outputId": "0a9b246b-3af5-4a55-b9c0-7eaff46d1d02"
      },
      "execution_count": null,
      "outputs": [
        {
          "output_type": "execute_result",
          "data": {
            "text/plain": [
              "{'accuracy_score': 0.6518391787852865,\n",
              " 'f1_score': 0.5790212756042808,\n",
              " 'precession_score': 0.6778744031693452,\n",
              " 'recall_score': 0.6518391787852865}"
            ]
          },
          "metadata": {},
          "execution_count": 23
        }
      ]
    },
    {
      "cell_type": "code",
      "source": [
        "from tensorflow.keras import layers\n",
        "train_sentence.shape, test_sentence.shape, train_sentiment.shape, test_sentiment.shape"
      ],
      "metadata": {
        "colab": {
          "base_uri": "https://localhost:8080/"
        },
        "id": "_6yXHDBSHGa3",
        "outputId": "23d75a1c-262e-4cba-b0ff-00715544ca61"
      },
      "execution_count": null,
      "outputs": [
        {
          "output_type": "execute_result",
          "data": {
            "text/plain": [
              "((4673,), (1169,), (4673,), (1169,))"
            ]
          },
          "metadata": {},
          "execution_count": 24
        }
      ]
    },
    {
      "cell_type": "markdown",
      "source": [
        "First Model Based on only Dense Layers"
      ],
      "metadata": {
        "id": "v03Kp3dUcAj-"
      }
    },
    {
      "cell_type": "code",
      "source": [
        "# Building a Model with only Dense Layers\n",
        "\n",
        "tf.random.set_seed(47)\n",
        "inputs = layers.Input(shape = (1, ) , dtype = \"string\")\n",
        "x = vectorizer_layer(inputs)\n",
        "\n",
        "x = embedding_layer(x)\n",
        "x = tf.keras.layers.Dense(10, activation = \"relu\")(x)\n",
        "x = layers.GlobalMaxPooling1D()(x)\n",
        "outputs = layers.Dense(3, activation = \"softmax\")(x)\n",
        "\n",
        "#groups layers into an object with training and inference features\n",
        "first_model = tf.keras.Model(inputs = inputs, outputs = outputs) \n",
        "\n",
        "\n",
        "first_model.summary() # shows summary of the model\n"
      ],
      "metadata": {
        "colab": {
          "base_uri": "https://localhost:8080/"
        },
        "id": "QnjNWJduHkw0",
        "outputId": "6ce6cb81-1f62-40fa-acb0-c3391a99e69e"
      },
      "execution_count": null,
      "outputs": [
        {
          "output_type": "stream",
          "name": "stdout",
          "text": [
            "Model: \"model\"\n",
            "_________________________________________________________________\n",
            " Layer (type)                Output Shape              Param #   \n",
            "=================================================================\n",
            " input_1 (InputLayer)        [(None, 1)]               0         \n",
            "                                                                 \n",
            " text_vectorization (TextVec  (None, 21)               0         \n",
            " torization)                                                     \n",
            "                                                                 \n",
            " embedding (Embedding)       (None, 21, 128)           12581760  \n",
            "                                                                 \n",
            " dense (Dense)               (None, 21, 10)            1290      \n",
            "                                                                 \n",
            " global_max_pooling1d (Globa  (None, 10)               0         \n",
            " lMaxPooling1D)                                                  \n",
            "                                                                 \n",
            " dense_1 (Dense)             (None, 3)                 33        \n",
            "                                                                 \n",
            "=================================================================\n",
            "Total params: 12,583,083\n",
            "Trainable params: 12,583,083\n",
            "Non-trainable params: 0\n",
            "_________________________________________________________________\n"
          ]
        }
      ]
    },
    {
      "cell_type": "code",
      "source": [
        "first_model.compile(loss = \"sparse_categorical_crossentropy\", \n",
        "                    optimizer = \"adam\", metrics = [\"accuracy\"])\n",
        "\n",
        "first_hist = first_model.fit(train_sentence, \n",
        "                            train_sentiment, epochs = 5, # model will displays results for 5 durations \n",
        "                            validation_data = (test_sentence, test_sentiment))"
      ],
      "metadata": {
        "colab": {
          "base_uri": "https://localhost:8080/"
        },
        "id": "8j_ejf3-IeQY",
        "outputId": "06d59882-c573-43e2-a228-0b48e8c279c8"
      },
      "execution_count": null,
      "outputs": [
        {
          "output_type": "stream",
          "name": "stdout",
          "text": [
            "Epoch 1/5\n",
            "147/147 [==============================] - 21s 131ms/step - loss: 0.9248 - accuracy: 0.5996 - val_loss: 0.8283 - val_accuracy: 0.6578\n",
            "Epoch 2/5\n",
            "147/147 [==============================] - 19s 129ms/step - loss: 0.7030 - accuracy: 0.7201 - val_loss: 0.7448 - val_accuracy: 0.6852\n",
            "Epoch 3/5\n",
            "147/147 [==============================] - 19s 126ms/step - loss: 0.5189 - accuracy: 0.7982 - val_loss: 0.7546 - val_accuracy: 0.6784\n",
            "Epoch 4/5\n",
            "147/147 [==============================] - 19s 132ms/step - loss: 0.3857 - accuracy: 0.8513 - val_loss: 0.8176 - val_accuracy: 0.6647\n",
            "Epoch 5/5\n",
            "147/147 [==============================] - 19s 127ms/step - loss: 0.3039 - accuracy: 0.8761 - val_loss: 0.8980 - val_accuracy: 0.6382\n"
          ]
        }
      ]
    },
    {
      "cell_type": "code",
      "source": [
        "import numpy as np  \n",
        "\n",
        "first_model_pred = first_model.predict(test_sentence)\n",
        "first_model_pred_round = tf.round(first_model_pred) #rounding the first predictions to either 0 or 1\n",
        "first_model_pred_round"
      ],
      "metadata": {
        "colab": {
          "base_uri": "https://localhost:8080/"
        },
        "id": "U2xp7Va1bnxz",
        "outputId": "0c19d488-1e0b-41e0-8217-e02fbe48f192"
      },
      "execution_count": null,
      "outputs": [
        {
          "output_type": "execute_result",
          "data": {
            "text/plain": [
              "<tf.Tensor: shape=(1169, 3), dtype=float32, numpy=\n",
              "array([[0., 1., 0.],\n",
              "       [0., 1., 0.],\n",
              "       [0., 0., 1.],\n",
              "       ...,\n",
              "       [0., 1., 0.],\n",
              "       [0., 0., 1.],\n",
              "       [0., 1., 0.]], dtype=float32)>"
            ]
          },
          "metadata": {},
          "execution_count": 31
        }
      ]
    },
    {
      "cell_type": "code",
      "source": [
        "                            # utilized argmax to find the index which has the largest value in each respective arrays\n",
        "first_model_pred_classes = tf.argmax(first_model_pred_round, axis = 1)\n",
        "\n",
        "first_model_pred_classes"
      ],
      "metadata": {
        "colab": {
          "base_uri": "https://localhost:8080/"
        },
        "id": "BPJw9YvWcMjP",
        "outputId": "552d69b1-2c3c-4683-e171-ac8707b32f75"
      },
      "execution_count": null,
      "outputs": [
        {
          "output_type": "execute_result",
          "data": {
            "text/plain": [
              "<tf.Tensor: shape=(1169,), dtype=int64, numpy=array([1, 1, 2, ..., 1, 2, 1])>"
            ]
          },
          "metadata": {},
          "execution_count": 41
        }
      ]
    },
    {
      "cell_type": "code",
      "source": [
        "test_sentiment.shape"
      ],
      "metadata": {
        "colab": {
          "base_uri": "https://localhost:8080/"
        },
        "id": "fU5BGo9FcPse",
        "outputId": "56e7ca64-aba0-4440-f773-2d44ec214f28"
      },
      "execution_count": null,
      "outputs": [
        {
          "output_type": "execute_result",
          "data": {
            "text/plain": [
              "(1169,)"
            ]
          },
          "metadata": {},
          "execution_count": 42
        }
      ]
    },
    {
      "cell_type": "code",
      "source": [
        "first_model_results = get_metrics(y_true = test_sentiment, y_pred = first_model_pred_classes)\n",
        "first_model_results"
      ],
      "metadata": {
        "colab": {
          "base_uri": "https://localhost:8080/"
        },
        "id": "4Ydgfj4VcScs",
        "outputId": "d7f26ee9-2f1c-4cab-c8cf-e751cc0bc4bd"
      },
      "execution_count": null,
      "outputs": [
        {
          "output_type": "execute_result",
          "data": {
            "text/plain": [
              "{'accuracy_score': 0.6330196749358425,\n",
              " 'f1_score': 0.6382968748428446,\n",
              " 'precession_score': 0.6454769812561617,\n",
              " 'recall_score': 0.6330196749358425}"
            ]
          },
          "metadata": {},
          "execution_count": 35
        }
      ]
    },
    {
      "cell_type": "markdown",
      "source": [
        "Model based on Recurrent Neural Network-LSTM"
      ],
      "metadata": {
        "id": "Q0Xrfn2tcZ63"
      }
    },
    {
      "cell_type": "code",
      "source": [
        "tf.random.set_seed(47)\n",
        "inputs = layers.Input(shape = (1, ) , dtype = \"string\")\n",
        "\n",
        "x = vectorizer_layer(inputs) \n",
        "\n",
        "\n",
        "second_model_embedding = tf.keras.layers.Embedding(\n",
        "    input_dim = max_vocab,\n",
        "    output_dim = 128,\n",
        "    input_length = maximum_length\n",
        ")\n",
        "\n",
        "x = second_model_embedding(x) \n",
        "\n",
        "# adding an LSTM layers\n",
        "x = tf.keras.layers.LSTM(52, return_sequences = True)(x) #set return_sequence to True, to stack layers\n",
        "x = tf.keras.layers.LSTM(52)(x)\n",
        "\n",
        "outputs = layers.Dense(3, activation = \"softmax\")(x) \n",
        "\n",
        "\n",
        "second_model = tf.keras.Model(inputs = inputs, outputs = outputs)\n",
        "second_model.summary()"
      ],
      "metadata": {
        "colab": {
          "base_uri": "https://localhost:8080/"
        },
        "id": "4ew8RIM5cbnK",
        "outputId": "7b5b2cb9-f437-4571-968f-67b6cc5937a8"
      },
      "execution_count": null,
      "outputs": [
        {
          "output_type": "stream",
          "name": "stdout",
          "text": [
            "Model: \"model_1\"\n",
            "_________________________________________________________________\n",
            " Layer (type)                Output Shape              Param #   \n",
            "=================================================================\n",
            " input_2 (InputLayer)        [(None, 1)]               0         \n",
            "                                                                 \n",
            " text_vectorization (TextVec  (None, 21)               0         \n",
            " torization)                                                     \n",
            "                                                                 \n",
            " embedding_1 (Embedding)     (None, 21, 128)           12581760  \n",
            "                                                                 \n",
            " lstm (LSTM)                 (None, 21, 52)            37648     \n",
            "                                                                 \n",
            " lstm_1 (LSTM)               (None, 52)                21840     \n",
            "                                                                 \n",
            " dense_2 (Dense)             (None, 3)                 159       \n",
            "                                                                 \n",
            "=================================================================\n",
            "Total params: 12,641,407\n",
            "Trainable params: 12,641,407\n",
            "Non-trainable params: 0\n",
            "_________________________________________________________________\n"
          ]
        }
      ]
    },
    {
      "cell_type": "code",
      "source": [
        "second_model.compile(loss = \"sparse_categorical_crossentropy\", \n",
        "                    optimizer = \"adam\", metrics = [\"accuracy\"])\n",
        "\n",
        "second_hist = second_model.fit(train_sentence, \n",
        "                            train_sentiment, epochs = 5,\n",
        "                            validation_data = (test_sentence, test_sentiment))"
      ],
      "metadata": {
        "colab": {
          "base_uri": "https://localhost:8080/"
        },
        "id": "aMGpuCAldjP0",
        "outputId": "79952ba2-90d9-4804-ccc4-768a784736cd"
      },
      "execution_count": null,
      "outputs": [
        {
          "output_type": "stream",
          "name": "stdout",
          "text": [
            "Epoch 1/5\n",
            "147/147 [==============================] - 26s 155ms/step - loss: 0.8851 - accuracy: 0.6101 - val_loss: 0.7823 - val_accuracy: 0.6920\n",
            "Epoch 2/5\n",
            "147/147 [==============================] - 22s 148ms/step - loss: 0.5375 - accuracy: 0.7822 - val_loss: 0.7369 - val_accuracy: 0.6826\n",
            "Epoch 3/5\n",
            "147/147 [==============================] - 22s 148ms/step - loss: 0.2756 - accuracy: 0.8755 - val_loss: 0.8520 - val_accuracy: 0.6664\n",
            "Epoch 4/5\n",
            "147/147 [==============================] - 22s 149ms/step - loss: 0.1939 - accuracy: 0.8981 - val_loss: 0.9324 - val_accuracy: 0.6647\n",
            "Epoch 5/5\n",
            "147/147 [==============================] - 22s 152ms/step - loss: 0.1559 - accuracy: 0.9091 - val_loss: 1.3341 - val_accuracy: 0.6621\n"
          ]
        }
      ]
    },
    {
      "cell_type": "code",
      "source": [
        "second_model_pred = second_model.predict(test_sentence) #will predict on testing data\n",
        "second_model_pred_round = tf.round(second_model_pred)\n",
        "second_model_pred_classes = tf.argmax(second_model_pred_round, axis = 1)\n",
        "second_model_pred_classes[:50] #will show the first 50 predictions "
      ],
      "metadata": {
        "colab": {
          "base_uri": "https://localhost:8080/"
        },
        "id": "mrLtSEGDeb8G",
        "outputId": "a752f3c6-2b45-48a1-a508-bf34b6135481"
      },
      "execution_count": null,
      "outputs": [
        {
          "output_type": "execute_result",
          "data": {
            "text/plain": [
              "<tf.Tensor: shape=(50,), dtype=int64, numpy=\n",
              "array([1, 1, 2, 1, 2, 2, 0, 2, 1, 2, 1, 1, 2, 1, 0, 1, 1, 2, 1, 1, 1, 1,\n",
              "       2, 1, 2, 1, 1, 0, 2, 2, 2, 2, 1, 2, 2, 1, 0, 2, 1, 1, 0, 1, 1, 1,\n",
              "       0, 2, 1, 1, 2, 2])>"
            ]
          },
          "metadata": {},
          "execution_count": 40
        }
      ]
    },
    {
      "cell_type": "code",
      "source": [
        "second_model_results = get_metrics(y_true = test_sentiment, y_pred =second_model_pred_classes)\n",
        "second_model_results"
      ],
      "metadata": {
        "colab": {
          "base_uri": "https://localhost:8080/"
        },
        "id": "f_iQ3MBsfxi1",
        "outputId": "fd77e37e-30a2-41a0-b764-b4e7f7c6a526"
      },
      "execution_count": null,
      "outputs": [
        {
          "output_type": "execute_result",
          "data": {
            "text/plain": [
              "{'accuracy_score': 0.6621043627031651,\n",
              " 'f1_score': 0.6544795851480242,\n",
              " 'precession_score': 0.6484097043868638,\n",
              " 'recall_score': 0.6621043627031651}"
            ]
          },
          "metadata": {},
          "execution_count": 44
        }
      ]
    },
    {
      "cell_type": "markdown",
      "source": [
        "Based on Creating a Dataframe, and comparing the results of two models and the baseline. We can see that the second_model(RNN- LSTM) performs the best."
      ],
      "metadata": {
        "id": "-jtc6QKlf4LX"
      }
    },
    {
      "cell_type": "code",
      "source": [
        "total_results = pd.DataFrame({\"baseline\": baseline_results, \n",
        "              \"first_model(simple dense layers)\": first_model_results, \n",
        "              \"second_model(RNN- LSTM)\": second_model_results})\n",
        "total_model_results = total_results.transpose()\n",
        "total_model_results"
      ],
      "metadata": {
        "colab": {
          "base_uri": "https://localhost:8080/",
          "height": 205
        },
        "id": "jw37nXCuf71z",
        "outputId": "1eea6ab7-c612-4faa-b50e-2727f63160b3"
      },
      "execution_count": null,
      "outputs": [
        {
          "output_type": "execute_result",
          "data": {
            "text/plain": [
              "                                  accuracy_score  precession_score  \\\n",
              "baseline                                0.651839          0.677874   \n",
              "first_model(simple dense layers)        0.633020          0.645477   \n",
              "second_model(RNN- LSTM)                 0.662104          0.648410   \n",
              "\n",
              "                                  recall_score  f1_score  \n",
              "baseline                              0.651839  0.579021  \n",
              "first_model(simple dense layers)      0.633020  0.638297  \n",
              "second_model(RNN- LSTM)               0.662104  0.654480  "
            ],
            "text/html": [
              "\n",
              "  <div id=\"df-a9d41f50-7519-4cb8-8a27-dd18655a4774\">\n",
              "    <div class=\"colab-df-container\">\n",
              "      <div>\n",
              "<style scoped>\n",
              "    .dataframe tbody tr th:only-of-type {\n",
              "        vertical-align: middle;\n",
              "    }\n",
              "\n",
              "    .dataframe tbody tr th {\n",
              "        vertical-align: top;\n",
              "    }\n",
              "\n",
              "    .dataframe thead th {\n",
              "        text-align: right;\n",
              "    }\n",
              "</style>\n",
              "<table border=\"1\" class=\"dataframe\">\n",
              "  <thead>\n",
              "    <tr style=\"text-align: right;\">\n",
              "      <th></th>\n",
              "      <th>accuracy_score</th>\n",
              "      <th>precession_score</th>\n",
              "      <th>recall_score</th>\n",
              "      <th>f1_score</th>\n",
              "    </tr>\n",
              "  </thead>\n",
              "  <tbody>\n",
              "    <tr>\n",
              "      <th>baseline</th>\n",
              "      <td>0.651839</td>\n",
              "      <td>0.677874</td>\n",
              "      <td>0.651839</td>\n",
              "      <td>0.579021</td>\n",
              "    </tr>\n",
              "    <tr>\n",
              "      <th>first_model(simple dense layers)</th>\n",
              "      <td>0.633020</td>\n",
              "      <td>0.645477</td>\n",
              "      <td>0.633020</td>\n",
              "      <td>0.638297</td>\n",
              "    </tr>\n",
              "    <tr>\n",
              "      <th>second_model(RNN- LSTM)</th>\n",
              "      <td>0.662104</td>\n",
              "      <td>0.648410</td>\n",
              "      <td>0.662104</td>\n",
              "      <td>0.654480</td>\n",
              "    </tr>\n",
              "  </tbody>\n",
              "</table>\n",
              "</div>\n",
              "      <button class=\"colab-df-convert\" onclick=\"convertToInteractive('df-a9d41f50-7519-4cb8-8a27-dd18655a4774')\"\n",
              "              title=\"Convert this dataframe to an interactive table.\"\n",
              "              style=\"display:none;\">\n",
              "        \n",
              "  <svg xmlns=\"http://www.w3.org/2000/svg\" height=\"24px\"viewBox=\"0 0 24 24\"\n",
              "       width=\"24px\">\n",
              "    <path d=\"M0 0h24v24H0V0z\" fill=\"none\"/>\n",
              "    <path d=\"M18.56 5.44l.94 2.06.94-2.06 2.06-.94-2.06-.94-.94-2.06-.94 2.06-2.06.94zm-11 1L8.5 8.5l.94-2.06 2.06-.94-2.06-.94L8.5 2.5l-.94 2.06-2.06.94zm10 10l.94 2.06.94-2.06 2.06-.94-2.06-.94-.94-2.06-.94 2.06-2.06.94z\"/><path d=\"M17.41 7.96l-1.37-1.37c-.4-.4-.92-.59-1.43-.59-.52 0-1.04.2-1.43.59L10.3 9.45l-7.72 7.72c-.78.78-.78 2.05 0 2.83L4 21.41c.39.39.9.59 1.41.59.51 0 1.02-.2 1.41-.59l7.78-7.78 2.81-2.81c.8-.78.8-2.07 0-2.86zM5.41 20L4 18.59l7.72-7.72 1.47 1.35L5.41 20z\"/>\n",
              "  </svg>\n",
              "      </button>\n",
              "      \n",
              "  <style>\n",
              "    .colab-df-container {\n",
              "      display:flex;\n",
              "      flex-wrap:wrap;\n",
              "      gap: 12px;\n",
              "    }\n",
              "\n",
              "    .colab-df-convert {\n",
              "      background-color: #E8F0FE;\n",
              "      border: none;\n",
              "      border-radius: 50%;\n",
              "      cursor: pointer;\n",
              "      display: none;\n",
              "      fill: #1967D2;\n",
              "      height: 32px;\n",
              "      padding: 0 0 0 0;\n",
              "      width: 32px;\n",
              "    }\n",
              "\n",
              "    .colab-df-convert:hover {\n",
              "      background-color: #E2EBFA;\n",
              "      box-shadow: 0px 1px 2px rgba(60, 64, 67, 0.3), 0px 1px 3px 1px rgba(60, 64, 67, 0.15);\n",
              "      fill: #174EA6;\n",
              "    }\n",
              "\n",
              "    [theme=dark] .colab-df-convert {\n",
              "      background-color: #3B4455;\n",
              "      fill: #D2E3FC;\n",
              "    }\n",
              "\n",
              "    [theme=dark] .colab-df-convert:hover {\n",
              "      background-color: #434B5C;\n",
              "      box-shadow: 0px 1px 3px 1px rgba(0, 0, 0, 0.15);\n",
              "      filter: drop-shadow(0px 1px 2px rgba(0, 0, 0, 0.3));\n",
              "      fill: #FFFFFF;\n",
              "    }\n",
              "  </style>\n",
              "\n",
              "      <script>\n",
              "        const buttonEl =\n",
              "          document.querySelector('#df-a9d41f50-7519-4cb8-8a27-dd18655a4774 button.colab-df-convert');\n",
              "        buttonEl.style.display =\n",
              "          google.colab.kernel.accessAllowed ? 'block' : 'none';\n",
              "\n",
              "        async function convertToInteractive(key) {\n",
              "          const element = document.querySelector('#df-a9d41f50-7519-4cb8-8a27-dd18655a4774');\n",
              "          const dataTable =\n",
              "            await google.colab.kernel.invokeFunction('convertToInteractive',\n",
              "                                                     [key], {});\n",
              "          if (!dataTable) return;\n",
              "\n",
              "          const docLinkHtml = 'Like what you see? Visit the ' +\n",
              "            '<a target=\"_blank\" href=https://colab.research.google.com/notebooks/data_table.ipynb>data table notebook</a>'\n",
              "            + ' to learn more about interactive tables.';\n",
              "          element.innerHTML = '';\n",
              "          dataTable['output_type'] = 'display_data';\n",
              "          await google.colab.output.renderOutput(dataTable, element);\n",
              "          const docLink = document.createElement('div');\n",
              "          docLink.innerHTML = docLinkHtml;\n",
              "          element.appendChild(docLink);\n",
              "        }\n",
              "      </script>\n",
              "    </div>\n",
              "  </div>\n",
              "  "
            ]
          },
          "metadata": {},
          "execution_count": 45
        }
      ]
    }
  ]
}